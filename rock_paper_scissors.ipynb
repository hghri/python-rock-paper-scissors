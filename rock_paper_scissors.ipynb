{
  "nbformat": 4,
  "nbformat_minor": 0,
  "metadata": {
    "colab": {
      "name": "Untitled0.ipynb",
      "provenance": [],
      "collapsed_sections": []
    },
    "kernelspec": {
      "name": "python3",
      "display_name": "Python 3"
    },
    "language_info": {
      "name": "python"
    }
  },
  "cells": [
    {
      "cell_type": "code",
      "execution_count": 3,
      "metadata": {
        "colab": {
          "base_uri": "https://localhost:8080/"
        },
        "id": "IdzcLjK83kuS",
        "outputId": "a24356f8-246e-42ee-8425-ee29fd83190e"
      },
      "outputs": [
        {
          "output_type": "stream",
          "name": "stdout",
          "text": [
            "Rock...\n",
            "Paper...\n",
            "Scisors...\n",
            "make your move player 1  : rock\n",
            "PC move was = rock\n",
            "tie\n"
          ]
        }
      ],
      "source": [
        "import random\n",
        "\n",
        "print(\"Rock...\")\n",
        "print(\"Paper...\")\n",
        "print(\"Scisors...\")\n",
        "\n",
        "RandomNumber= random.randint(0, 2)\n",
        "if RandomNumber == 0 :\n",
        "    pcMove=\"rock\"\n",
        "elif RandomNumber==1 :\n",
        "    pcMove=\"paper\"\n",
        "else :\n",
        "    PcMove=\"scisors\"\n",
        "\n",
        "\n",
        "Player=input(\"make your move player 1  : \")\n",
        "\n",
        "\n",
        "print(f\"PC move was = {pcMove}\")\n",
        "if Player==pcMove :\n",
        "    print(\"tie\")\n",
        "    \n",
        "elif (Player==\"rock\" and pcMove ==\"scisors\") or (Player==\"paper\" and pcMove==\"rock\") or (Player==\"scisors\" and pcMove==\"paper\") :\n",
        "    print(\"player 1 won ... \")\n",
        "\n",
        "elif (pcMove==\"rock\" and Player ==\"scisors\") or (pcMove==\"paper\" and Player==\"rock\") or (pcMove==\"scisors\" and Player==\"paper\") :\n",
        "    print(\"player 2 won ...\")\n",
        "\n",
        "\n",
        "else :\n",
        "    print(\"Undifinded\")\n",
        "\n"
      ]
    }
  ]
}